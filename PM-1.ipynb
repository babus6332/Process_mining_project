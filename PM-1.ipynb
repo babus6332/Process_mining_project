{
 "cells": [
  {
   "cell_type": "code",
   "execution_count": 1,
   "metadata": {},
   "outputs": [
    {
     "name": "stdout",
     "output_type": "stream",
     "text": [
      "(100, 1, 1)\n",
      "CPU times: user 472 ms, sys: 122 ms, total: 594 ms\n",
      "Wall time: 913 ms\n"
     ]
    }
   ],
   "source": [
    "%%time\n",
    "from itertools import product \n",
    "import re\n",
    "import pandas as pd\n",
    "import numpy as np\n",
    "import datetime\n",
    "import gc\n",
    "gc.set_threshold(100,1,1)\n",
    "print(gc.get_threshold())\n",
    "import matplotlib.pyplot as plt\n",
    "plt.ion()\n",
    "pd.set_option('display.max_columns',100)\n",
    "from tqdm import tqdm"
   ]
  },
  {
   "cell_type": "code",
   "execution_count": 169,
   "metadata": {},
   "outputs": [],
   "source": [
    "def quant(a, p=0.05):\n",
    "    try:\n",
    "        ar = np.sort(a)\n",
    "        start = int(np.ceil(len(ar)*p))\n",
    "        end = int(np.floor(len(ar)*(1-p)))\n",
    "        ar = ar[start:end]\n",
    "        return np.mean(ar)#, np.median(ar)#, np.median(ar), np.std(ar)#np.mean(ar)#len(a), len(ar), np.mean(ar), np.min(ar), np.max(ar), np.median(ar), np.std(ar)\n",
    "    except:\n",
    "        return 'Error'"
   ]
  },
  {
   "cell_type": "code",
   "execution_count": 170,
   "metadata": {},
   "outputs": [],
   "source": [
    "data0 = pd.read_csv('InternationalDeclarations.csv')"
   ]
  },
  {
   "cell_type": "code",
   "execution_count": 171,
   "metadata": {},
   "outputs": [],
   "source": [
    "#data0['concept:name'].value_counts()"
   ]
  },
  {
   "cell_type": "code",
   "execution_count": 172,
   "metadata": {},
   "outputs": [
    {
     "data": {
      "text/plain": [
       "(72151, 23)"
      ]
     },
     "execution_count": 172,
     "metadata": {},
     "output_type": "execute_result"
    }
   ],
   "source": [
    "data0.shape"
   ]
  },
  {
   "cell_type": "code",
   "execution_count": 173,
   "metadata": {},
   "outputs": [
    {
     "data": {
      "text/plain": [
       "id                                  69073\n",
       "org:resource                            2\n",
       "concept:name                           34\n",
       "time:timestamp                      51270\n",
       "org:role                                8\n",
       "case:Permit travel permit number     5596\n",
       "case:DeclarationNumber               6190\n",
       "case:Amount                          6100\n",
       "case:RequestedAmount                 6100\n",
       "case:Permit TaskNumber                  6\n",
       "case:Permit BudgetNumber              207\n",
       "case:OriginalAmount                  6100\n",
       "case:Permit ProjectNumber             825\n",
       "case:concept:name                    6449\n",
       "case:Permit OrganizationalEntity       27\n",
       "case:travel permit number            6033\n",
       "case:Permit RequestedBudget          5259\n",
       "case:id                              6449\n",
       "case:Permit ID                       6028\n",
       "case:Permit id                       5608\n",
       "case:BudgetNumber                     719\n",
       "case:Permit ActivityNumber            145\n",
       "case:AdjustedAmount                  6101\n",
       "dtype: int64"
      ]
     },
     "execution_count": 173,
     "metadata": {},
     "output_type": "execute_result"
    }
   ],
   "source": [
    "data0.nunique()"
   ]
  },
  {
   "cell_type": "code",
   "execution_count": 174,
   "metadata": {},
   "outputs": [
    {
     "data": {
      "text/plain": [
       "1     6189\n",
       "86       1\n",
       "Name: case:Permit BudgetNumber, dtype: int64"
      ]
     },
     "execution_count": 174,
     "metadata": {},
     "output_type": "execute_result"
    }
   ],
   "source": [
    "data0.groupby('case:DeclarationNumber')['case:Permit BudgetNumber'].nunique().value_counts()"
   ]
  },
  {
   "cell_type": "code",
   "execution_count": 175,
   "metadata": {},
   "outputs": [],
   "source": [
    "#data0[data0['case:DeclarationNumber'] == 'declaration number 76458']"
   ]
  },
  {
   "cell_type": "code",
   "execution_count": 176,
   "metadata": {},
   "outputs": [],
   "source": [
    "data0['time:timestamp']=data0['time:timestamp'].astype(str).str[0:19]"
   ]
  },
  {
   "cell_type": "code",
   "execution_count": 177,
   "metadata": {},
   "outputs": [],
   "source": [
    "data0[['case:DeclarationNumber', 'time:timestamp', 'concept:name']].to_excel('PM.xlsx', index=False)"
   ]
  },
  {
   "cell_type": "code",
   "execution_count": 178,
   "metadata": {},
   "outputs": [
    {
     "data": {
      "text/html": [
       "<div>\n",
       "<style scoped>\n",
       "    .dataframe tbody tr th:only-of-type {\n",
       "        vertical-align: middle;\n",
       "    }\n",
       "\n",
       "    .dataframe tbody tr th {\n",
       "        vertical-align: top;\n",
       "    }\n",
       "\n",
       "    .dataframe thead th {\n",
       "        text-align: right;\n",
       "    }\n",
       "</style>\n",
       "<table border=\"1\" class=\"dataframe\">\n",
       "  <thead>\n",
       "    <tr style=\"text-align: right;\">\n",
       "      <th></th>\n",
       "      <th>id</th>\n",
       "      <th>org:resource</th>\n",
       "      <th>concept:name</th>\n",
       "      <th>time:timestamp</th>\n",
       "      <th>org:role</th>\n",
       "      <th>case:Permit travel permit number</th>\n",
       "      <th>case:DeclarationNumber</th>\n",
       "      <th>case:Amount</th>\n",
       "      <th>case:RequestedAmount</th>\n",
       "      <th>case:Permit TaskNumber</th>\n",
       "      <th>case:Permit BudgetNumber</th>\n",
       "      <th>case:OriginalAmount</th>\n",
       "      <th>case:Permit ProjectNumber</th>\n",
       "      <th>case:concept:name</th>\n",
       "      <th>case:Permit OrganizationalEntity</th>\n",
       "      <th>case:travel permit number</th>\n",
       "      <th>case:Permit RequestedBudget</th>\n",
       "      <th>case:id</th>\n",
       "      <th>case:Permit ID</th>\n",
       "      <th>case:Permit id</th>\n",
       "      <th>case:BudgetNumber</th>\n",
       "      <th>case:Permit ActivityNumber</th>\n",
       "      <th>case:AdjustedAmount</th>\n",
       "    </tr>\n",
       "  </thead>\n",
       "  <tbody>\n",
       "    <tr>\n",
       "      <th>0</th>\n",
       "      <td>rv_travel permit 76455_6</td>\n",
       "      <td>STAFF MEMBER</td>\n",
       "      <td>Start trip</td>\n",
       "      <td>2016-10-05 00:00:00</td>\n",
       "      <td>EMPLOYEE</td>\n",
       "      <td>travel permit number 76456</td>\n",
       "      <td>declaration number 76458</td>\n",
       "      <td>39.664561</td>\n",
       "      <td>39.664561</td>\n",
       "      <td>UNKNOWN</td>\n",
       "      <td>budget 922</td>\n",
       "      <td>39.664561</td>\n",
       "      <td>UNKNOWN</td>\n",
       "      <td>declaration 76457</td>\n",
       "      <td>organizational unit 65458</td>\n",
       "      <td>travel permit number 76456</td>\n",
       "      <td>41.613445</td>\n",
       "      <td>declaration 76457</td>\n",
       "      <td>travel permit 76455</td>\n",
       "      <td>travel permit 76455</td>\n",
       "      <td>budget 144133</td>\n",
       "      <td>activity 46005</td>\n",
       "      <td>39.664561</td>\n",
       "    </tr>\n",
       "    <tr>\n",
       "      <th>8</th>\n",
       "      <td>rv_travel permit 76665_6</td>\n",
       "      <td>STAFF MEMBER</td>\n",
       "      <td>Start trip</td>\n",
       "      <td>2016-11-21 00:00:00</td>\n",
       "      <td>EMPLOYEE</td>\n",
       "      <td>travel permit number 76666</td>\n",
       "      <td>declaration number 76668</td>\n",
       "      <td>346.544903</td>\n",
       "      <td>346.544903</td>\n",
       "      <td>task 427</td>\n",
       "      <td>budget 1644</td>\n",
       "      <td>346.544903</td>\n",
       "      <td>project 73472</td>\n",
       "      <td>declaration 76667</td>\n",
       "      <td>organizational unit 65458</td>\n",
       "      <td>travel permit number 76666</td>\n",
       "      <td>795.537307</td>\n",
       "      <td>declaration 76667</td>\n",
       "      <td>travel permit 76665</td>\n",
       "      <td>travel permit 76665</td>\n",
       "      <td>budget 144054</td>\n",
       "      <td>UNKNOWN</td>\n",
       "      <td>346.544903</td>\n",
       "    </tr>\n",
       "    <tr>\n",
       "      <th>16</th>\n",
       "      <td>rv_travel permit 73652_6</td>\n",
       "      <td>STAFF MEMBER</td>\n",
       "      <td>Start trip</td>\n",
       "      <td>2016-12-08 00:00:00</td>\n",
       "      <td>EMPLOYEE</td>\n",
       "      <td>travel permit number 73653</td>\n",
       "      <td>declaration number 73655</td>\n",
       "      <td>56.972769</td>\n",
       "      <td>56.972769</td>\n",
       "      <td>UNKNOWN</td>\n",
       "      <td>budget 6198</td>\n",
       "      <td>56.972769</td>\n",
       "      <td>UNKNOWN</td>\n",
       "      <td>declaration 73654</td>\n",
       "      <td>organizational unit 65455</td>\n",
       "      <td>travel permit number 73653</td>\n",
       "      <td>51.793426</td>\n",
       "      <td>declaration 73654</td>\n",
       "      <td>travel permit 73652</td>\n",
       "      <td>travel permit 73652</td>\n",
       "      <td>budget 143677</td>\n",
       "      <td>UNKNOWN</td>\n",
       "      <td>56.972769</td>\n",
       "    </tr>\n",
       "    <tr>\n",
       "      <th>24</th>\n",
       "      <td>rv_travel permit 73562_6</td>\n",
       "      <td>STAFF MEMBER</td>\n",
       "      <td>Start trip</td>\n",
       "      <td>2017-01-01 00:00:00</td>\n",
       "      <td>EMPLOYEE</td>\n",
       "      <td>travel permit number 73563</td>\n",
       "      <td>declaration number 73597</td>\n",
       "      <td>15.482037</td>\n",
       "      <td>15.482037</td>\n",
       "      <td>task 427</td>\n",
       "      <td>budget 899</td>\n",
       "      <td>15.482037</td>\n",
       "      <td>project 8761</td>\n",
       "      <td>declaration 73596</td>\n",
       "      <td>organizational unit 65455</td>\n",
       "      <td>travel permit number 73563</td>\n",
       "      <td>6020.792331</td>\n",
       "      <td>declaration 73596</td>\n",
       "      <td>travel permit 73562</td>\n",
       "      <td>travel permit 73562</td>\n",
       "      <td>budget 143495</td>\n",
       "      <td>UNKNOWN</td>\n",
       "      <td>15.482037</td>\n",
       "    </tr>\n",
       "    <tr>\n",
       "      <th>34</th>\n",
       "      <td>rv_travel permit 73562_6</td>\n",
       "      <td>STAFF MEMBER</td>\n",
       "      <td>Start trip</td>\n",
       "      <td>2017-01-01 00:00:00</td>\n",
       "      <td>EMPLOYEE</td>\n",
       "      <td>travel permit number 73563</td>\n",
       "      <td>declaration number 73595</td>\n",
       "      <td>131.597318</td>\n",
       "      <td>131.597318</td>\n",
       "      <td>task 427</td>\n",
       "      <td>budget 899</td>\n",
       "      <td>131.597318</td>\n",
       "      <td>project 8761</td>\n",
       "      <td>declaration 73594</td>\n",
       "      <td>organizational unit 65455</td>\n",
       "      <td>travel permit number 73563</td>\n",
       "      <td>6020.792331</td>\n",
       "      <td>declaration 73594</td>\n",
       "      <td>travel permit 73562</td>\n",
       "      <td>travel permit 73562</td>\n",
       "      <td>budget 143495</td>\n",
       "      <td>UNKNOWN</td>\n",
       "      <td>131.597318</td>\n",
       "    </tr>\n",
       "  </tbody>\n",
       "</table>\n",
       "</div>"
      ],
      "text/plain": [
       "                          id  org:resource concept:name       time:timestamp  \\\n",
       "0   rv_travel permit 76455_6  STAFF MEMBER   Start trip  2016-10-05 00:00:00   \n",
       "8   rv_travel permit 76665_6  STAFF MEMBER   Start trip  2016-11-21 00:00:00   \n",
       "16  rv_travel permit 73652_6  STAFF MEMBER   Start trip  2016-12-08 00:00:00   \n",
       "24  rv_travel permit 73562_6  STAFF MEMBER   Start trip  2017-01-01 00:00:00   \n",
       "34  rv_travel permit 73562_6  STAFF MEMBER   Start trip  2017-01-01 00:00:00   \n",
       "\n",
       "    org:role case:Permit travel permit number    case:DeclarationNumber  \\\n",
       "0   EMPLOYEE       travel permit number 76456  declaration number 76458   \n",
       "8   EMPLOYEE       travel permit number 76666  declaration number 76668   \n",
       "16  EMPLOYEE       travel permit number 73653  declaration number 73655   \n",
       "24  EMPLOYEE       travel permit number 73563  declaration number 73597   \n",
       "34  EMPLOYEE       travel permit number 73563  declaration number 73595   \n",
       "\n",
       "    case:Amount  case:RequestedAmount case:Permit TaskNumber  \\\n",
       "0     39.664561             39.664561                UNKNOWN   \n",
       "8    346.544903            346.544903               task 427   \n",
       "16    56.972769             56.972769                UNKNOWN   \n",
       "24    15.482037             15.482037               task 427   \n",
       "34   131.597318            131.597318               task 427   \n",
       "\n",
       "   case:Permit BudgetNumber  case:OriginalAmount case:Permit ProjectNumber  \\\n",
       "0                budget 922            39.664561                   UNKNOWN   \n",
       "8               budget 1644           346.544903             project 73472   \n",
       "16              budget 6198            56.972769                   UNKNOWN   \n",
       "24               budget 899            15.482037              project 8761   \n",
       "34               budget 899           131.597318              project 8761   \n",
       "\n",
       "    case:concept:name case:Permit OrganizationalEntity  \\\n",
       "0   declaration 76457        organizational unit 65458   \n",
       "8   declaration 76667        organizational unit 65458   \n",
       "16  declaration 73654        organizational unit 65455   \n",
       "24  declaration 73596        organizational unit 65455   \n",
       "34  declaration 73594        organizational unit 65455   \n",
       "\n",
       "     case:travel permit number  case:Permit RequestedBudget  \\\n",
       "0   travel permit number 76456                    41.613445   \n",
       "8   travel permit number 76666                   795.537307   \n",
       "16  travel permit number 73653                    51.793426   \n",
       "24  travel permit number 73563                  6020.792331   \n",
       "34  travel permit number 73563                  6020.792331   \n",
       "\n",
       "              case:id       case:Permit ID       case:Permit id  \\\n",
       "0   declaration 76457  travel permit 76455  travel permit 76455   \n",
       "8   declaration 76667  travel permit 76665  travel permit 76665   \n",
       "16  declaration 73654  travel permit 73652  travel permit 73652   \n",
       "24  declaration 73596  travel permit 73562  travel permit 73562   \n",
       "34  declaration 73594  travel permit 73562  travel permit 73562   \n",
       "\n",
       "   case:BudgetNumber case:Permit ActivityNumber  case:AdjustedAmount  \n",
       "0      budget 144133             activity 46005            39.664561  \n",
       "8      budget 144054                    UNKNOWN           346.544903  \n",
       "16     budget 143677                    UNKNOWN            56.972769  \n",
       "24     budget 143495                    UNKNOWN            15.482037  \n",
       "34     budget 143495                    UNKNOWN           131.597318  "
      ]
     },
     "execution_count": 178,
     "metadata": {},
     "output_type": "execute_result"
    }
   ],
   "source": [
    "data0[data0['concept:name'] == 'Start trip'].head()"
   ]
  },
  {
   "cell_type": "code",
   "execution_count": 179,
   "metadata": {},
   "outputs": [
    {
     "data": {
      "text/plain": [
       "array(['STAFF MEMBER', 'SYSTEM'], dtype=object)"
      ]
     },
     "execution_count": 179,
     "metadata": {},
     "output_type": "execute_result"
    }
   ],
   "source": [
    "data0['org:resource'].unique()"
   ]
  },
  {
   "cell_type": "code",
   "execution_count": 180,
   "metadata": {},
   "outputs": [
    {
     "data": {
      "text/plain": [
       "array(['EMPLOYEE', 'SUPERVISOR', 'UNDEFINED', 'DIRECTOR', 'PRE_APPROVER',\n",
       "       'ADMINISTRATION', 'MISSING', 'BUDGET OWNER'], dtype=object)"
      ]
     },
     "execution_count": 180,
     "metadata": {},
     "output_type": "execute_result"
    }
   ],
   "source": [
    "data0['org:role'].unique()"
   ]
  },
  {
   "cell_type": "code",
   "execution_count": 183,
   "metadata": {},
   "outputs": [],
   "source": [
    "data=data0[['case:DeclarationNumber', 'time:timestamp', 'concept:name', 'case:Permit RequestedBudget', 'case:OriginalAmount']]"
   ]
  },
  {
   "cell_type": "code",
   "execution_count": 143,
   "metadata": {},
   "outputs": [
    {
     "data": {
      "text/html": [
       "<div>\n",
       "<style scoped>\n",
       "    .dataframe tbody tr th:only-of-type {\n",
       "        vertical-align: middle;\n",
       "    }\n",
       "\n",
       "    .dataframe tbody tr th {\n",
       "        vertical-align: top;\n",
       "    }\n",
       "\n",
       "    .dataframe thead th {\n",
       "        text-align: right;\n",
       "    }\n",
       "</style>\n",
       "<table border=\"1\" class=\"dataframe\">\n",
       "  <thead>\n",
       "    <tr style=\"text-align: right;\">\n",
       "      <th></th>\n",
       "      <th>case:DeclarationNumber</th>\n",
       "      <th>time:timestamp</th>\n",
       "      <th>concept:name</th>\n",
       "      <th>case:Permit RequestedBudget</th>\n",
       "      <th>case:OriginalAmount</th>\n",
       "    </tr>\n",
       "  </thead>\n",
       "  <tbody>\n",
       "    <tr>\n",
       "      <th>0</th>\n",
       "      <td>declaration number 76458</td>\n",
       "      <td>2016-10-05 00:00:00</td>\n",
       "      <td>Start trip</td>\n",
       "      <td>41.613445</td>\n",
       "      <td>39.664561</td>\n",
       "    </tr>\n",
       "    <tr>\n",
       "      <th>1</th>\n",
       "      <td>declaration number 76458</td>\n",
       "      <td>2016-10-05 00:00:00</td>\n",
       "      <td>End trip</td>\n",
       "      <td>41.613445</td>\n",
       "      <td>39.664561</td>\n",
       "    </tr>\n",
       "    <tr>\n",
       "      <th>2</th>\n",
       "      <td>declaration number 76458</td>\n",
       "      <td>2017-04-06 13:32:10</td>\n",
       "      <td>Permit SUBMITTED by EMPLOYEE</td>\n",
       "      <td>41.613445</td>\n",
       "      <td>39.664561</td>\n",
       "    </tr>\n",
       "    <tr>\n",
       "      <th>3</th>\n",
       "      <td>declaration number 76458</td>\n",
       "      <td>2017-04-06 13:32:28</td>\n",
       "      <td>Permit FINAL_APPROVED by SUPERVISOR</td>\n",
       "      <td>41.613445</td>\n",
       "      <td>39.664561</td>\n",
       "    </tr>\n",
       "    <tr>\n",
       "      <th>4</th>\n",
       "      <td>declaration number 76458</td>\n",
       "      <td>2017-04-07 13:38:14</td>\n",
       "      <td>Declaration SUBMITTED by EMPLOYEE</td>\n",
       "      <td>41.613445</td>\n",
       "      <td>39.664561</td>\n",
       "    </tr>\n",
       "  </tbody>\n",
       "</table>\n",
       "</div>"
      ],
      "text/plain": [
       "     case:DeclarationNumber       time:timestamp  \\\n",
       "0  declaration number 76458  2016-10-05 00:00:00   \n",
       "1  declaration number 76458  2016-10-05 00:00:00   \n",
       "2  declaration number 76458  2017-04-06 13:32:10   \n",
       "3  declaration number 76458  2017-04-06 13:32:28   \n",
       "4  declaration number 76458  2017-04-07 13:38:14   \n",
       "\n",
       "                          concept:name  case:Permit RequestedBudget  \\\n",
       "0                           Start trip                    41.613445   \n",
       "1                             End trip                    41.613445   \n",
       "2         Permit SUBMITTED by EMPLOYEE                    41.613445   \n",
       "3  Permit FINAL_APPROVED by SUPERVISOR                    41.613445   \n",
       "4    Declaration SUBMITTED by EMPLOYEE                    41.613445   \n",
       "\n",
       "   case:OriginalAmount  \n",
       "0            39.664561  \n",
       "1            39.664561  \n",
       "2            39.664561  \n",
       "3            39.664561  \n",
       "4            39.664561  "
      ]
     },
     "execution_count": 143,
     "metadata": {},
     "output_type": "execute_result"
    }
   ],
   "source": [
    "data[data['case:DeclarationNumber']!='UNKNOWN'].head(5)"
   ]
  },
  {
   "cell_type": "code",
   "execution_count": 185,
   "metadata": {},
   "outputs": [
    {
     "name": "stderr",
     "output_type": "stream",
     "text": [
      "<ipython-input-185-a6c8db0f9d90>:1: SettingWithCopyWarning: \n",
      "A value is trying to be set on a copy of a slice from a DataFrame.\n",
      "Try using .loc[row_indexer,col_indexer] = value instead\n",
      "\n",
      "See the caveats in the documentation: https://pandas.pydata.org/pandas-docs/stable/user_guide/indexing.html#returning-a-view-versus-a-copy\n",
      "  data['time:timestamp'] = pd.to_datetime(data['time:timestamp'], format='%Y-%m-%d %H:%M:%S')\n",
      "<ipython-input-185-a6c8db0f9d90>:2: SettingWithCopyWarning: \n",
      "A value is trying to be set on a copy of a slice from a DataFrame\n",
      "\n",
      "See the caveats in the documentation: https://pandas.pydata.org/pandas-docs/stable/user_guide/indexing.html#returning-a-view-versus-a-copy\n",
      "  data.sort_values(['case:DeclarationNumber', 'time:timestamp'], inplace = True)\n",
      "<ipython-input-185-a6c8db0f9d90>:4: SettingWithCopyWarning: \n",
      "A value is trying to be set on a copy of a slice from a DataFrame.\n",
      "Try using .loc[row_indexer,col_indexer] = value instead\n",
      "\n",
      "See the caveats in the documentation: https://pandas.pydata.org/pandas-docs/stable/user_guide/indexing.html#returning-a-view-versus-a-copy\n",
      "  data['Следующий шаг']= data.groupby('case:DeclarationNumber').shift(-1)['time:timestamp']\n",
      "<ipython-input-185-a6c8db0f9d90>:5: SettingWithCopyWarning: \n",
      "A value is trying to be set on a copy of a slice from a DataFrame.\n",
      "Try using .loc[row_indexer,col_indexer] = value instead\n",
      "\n",
      "See the caveats in the documentation: https://pandas.pydata.org/pandas-docs/stable/user_guide/indexing.html#returning-a-view-versus-a-copy\n",
      "  data['Шаг']= data['concept:name'].astype(str)+'-->'+data.groupby('case:DeclarationNumber').shift(-1)['concept:name'].astype(str)\n",
      "<ipython-input-185-a6c8db0f9d90>:13: SettingWithCopyWarning: \n",
      "A value is trying to be set on a copy of a slice from a DataFrame.\n",
      "Try using .loc[row_indexer,col_indexer] = value instead\n",
      "\n",
      "See the caveats in the documentation: https://pandas.pydata.org/pandas-docs/stable/user_guide/indexing.html#returning-a-view-versus-a-copy\n",
      "  data['Длительность_шага'] = data['Следующий шаг'].astype(str) + '*^' + data['time:timestamp'].astype(str)\n",
      "<ipython-input-185-a6c8db0f9d90>:14: SettingWithCopyWarning: \n",
      "A value is trying to be set on a copy of a slice from a DataFrame.\n",
      "Try using .loc[row_indexer,col_indexer] = value instead\n",
      "\n",
      "See the caveats in the documentation: https://pandas.pydata.org/pandas-docs/stable/user_guide/indexing.html#returning-a-view-versus-a-copy\n",
      "  data['Длительность_шага'] = data['Длительность_шага'].apply(delta)\n"
     ]
    }
   ],
   "source": [
    "data['time:timestamp'] = pd.to_datetime(data['time:timestamp'], format='%Y-%m-%d %H:%M:%S')\n",
    "data.sort_values(['case:DeclarationNumber', 'time:timestamp'], inplace = True)\n",
    "\n",
    "data['Следующий шаг']= data.groupby('case:DeclarationNumber').shift(-1)['time:timestamp']\n",
    "data['Шаг']= data['concept:name'].astype(str)+'-->'+data.groupby('case:DeclarationNumber').shift(-1)['concept:name'].astype(str)\n",
    "\n",
    "#Используем для подсчета длительности\n",
    "def delta(x):\n",
    "    t0 = x.split('*^')[0]\n",
    "    t1 = x.split('*^')[1]\n",
    "    return((pd.to_datetime(t0) - pd.to_datetime(t1)).seconds)\n",
    "\n",
    "data['Длительность_шага'] = data['Следующий шаг'].astype(str) + '*^' + data['time:timestamp'].astype(str)\n",
    "data['Длительность_шага'] = data['Длительность_шага'].apply(delta)"
   ]
  },
  {
   "cell_type": "code",
   "execution_count": 186,
   "metadata": {},
   "outputs": [
    {
     "name": "stderr",
     "output_type": "stream",
     "text": [
      "<ipython-input-186-026c4fe8805d>:1: SettingWithCopyWarning: \n",
      "A value is trying to be set on a copy of a slice from a DataFrame.\n",
      "Try using .loc[row_indexer,col_indexer] = value instead\n",
      "\n",
      "See the caveats in the documentation: https://pandas.pydata.org/pandas-docs/stable/user_guide/indexing.html#returning-a-view-versus-a-copy\n",
      "  data['Длительность_шага']=data['Длительность_шага']/3600\n"
     ]
    }
   ],
   "source": [
    "data['Длительность_шага']=data['Длительность_шага']/3600"
   ]
  },
  {
   "cell_type": "code",
   "execution_count": 187,
   "metadata": {},
   "outputs": [
    {
     "data": {
      "text/plain": [
       "Request Payment-->Payment Handled                                                    6149\n",
       "Declaration FINAL_APPROVED by SUPERVISOR-->Request Payment                           5918\n",
       "Payment Handled-->nan                                                                5646\n",
       "Start trip-->End trip                                                                5612\n",
       "Declaration SUBMITTED by EMPLOYEE-->Declaration APPROVED by ADMINISTRATION           4950\n",
       "Permit SUBMITTED by EMPLOYEE-->Permit APPROVED by ADMINISTRATION                     4798\n",
       "End trip-->Declaration SUBMITTED by EMPLOYEE                                         4497\n",
       "Permit FINAL_APPROVED by SUPERVISOR-->Start trip                                     4079\n",
       "Declaration APPROVED by ADMINISTRATION-->Declaration FINAL_APPROVED by SUPERVISOR    2959\n",
       "Permit APPROVED by ADMINISTRATION-->Permit FINAL_APPROVED by SUPERVISOR              2483\n",
       "Name: Шаг, dtype: int64"
      ]
     },
     "execution_count": 187,
     "metadata": {},
     "output_type": "execute_result"
    }
   ],
   "source": [
    "data['Шаг'].value_counts()[:10]"
   ]
  },
  {
   "cell_type": "code",
   "execution_count": 188,
   "metadata": {},
   "outputs": [],
   "source": [
    "# sp=['Request Payment-->Payment Handled', 'Declaration FINAL_APPROVED by SUPERVISOR-->Request Payment', \\\n",
    "#     'Payment Handled-->nan', 'Start trip-->End trip',\\\n",
    "#     'Declaration SUBMITTED by EMPLOYEE-->Declaration APPROVED by ADMINISTRATION',\\\n",
    "#    'Permit SUBMITTED by EMPLOYEE-->Permit APPROVED by ADMINISTRATION',\\\n",
    "#    'End trip-->Declaration SUBMITTED by EMPLOYEE',\\\n",
    "#    'Permit FINAL_APPROVED by SUPERVISOR-->Start trip', \n",
    "#    'Declaration APPROVED by ADMINISTRATION-->Declaration FINAL_APPROVED by SUPERVISOR',\\\n",
    "#    'Permit APPROVED by ADMINISTRATION-->Permit FINAL_APPROVED by SUPERVISOR']\n",
    "# data[data['Шаг'].isin(sp)]"
   ]
  },
  {
   "cell_type": "code",
   "execution_count": 189,
   "metadata": {},
   "outputs": [
    {
     "name": "stderr",
     "output_type": "stream",
     "text": [
      "<ipython-input-189-d01387e7259c>:1: SettingWithCopyWarning: \n",
      "A value is trying to be set on a copy of a slice from a DataFrame.\n",
      "Try using .loc[row_indexer,col_indexer] = value instead\n",
      "\n",
      "See the caveats in the documentation: https://pandas.pydata.org/pandas-docs/stable/user_guide/indexing.html#returning-a-view-versus-a-copy\n",
      "  data['diff']=data['case:Permit RequestedBudget']-data['case:OriginalAmount']\n"
     ]
    }
   ],
   "source": [
    "data['diff']=data['case:Permit RequestedBudget']-data['case:OriginalAmount']"
   ]
  },
  {
   "cell_type": "code",
   "execution_count": 190,
   "metadata": {},
   "outputs": [],
   "source": [
    "#data['Переход']= data.groupby('case:DeclarationNumber').shift(-3)['concept:name'].astype(str)"
   ]
  },
  {
   "cell_type": "code",
   "execution_count": 191,
   "metadata": {},
   "outputs": [],
   "source": [
    "info1=data.groupby(['case:DeclarationNumber', 'diff', 'case:OriginalAmount'])\\\n",
    ".agg({'Длительность_шага' : 'sum', 'Шаг' : 'count', 'concept:name' : 'last', 'time:timestamp': 'max'}).reset_index()"
   ]
  },
  {
   "cell_type": "code",
   "execution_count": 199,
   "metadata": {},
   "outputs": [
    {
     "data": {
      "text/html": [
       "<div>\n",
       "<style scoped>\n",
       "    .dataframe tbody tr th:only-of-type {\n",
       "        vertical-align: middle;\n",
       "    }\n",
       "\n",
       "    .dataframe tbody tr th {\n",
       "        vertical-align: top;\n",
       "    }\n",
       "\n",
       "    .dataframe thead th {\n",
       "        text-align: right;\n",
       "    }\n",
       "</style>\n",
       "<table border=\"1\" class=\"dataframe\">\n",
       "  <thead>\n",
       "    <tr style=\"text-align: right;\">\n",
       "      <th></th>\n",
       "      <th>case:DeclarationNumber</th>\n",
       "      <th>diff</th>\n",
       "      <th>case:OriginalAmount</th>\n",
       "      <th>Длительность_шага</th>\n",
       "      <th>Шаг</th>\n",
       "      <th>concept:name</th>\n",
       "      <th>time:timestamp</th>\n",
       "      <th>Месяц</th>\n",
       "    </tr>\n",
       "  </thead>\n",
       "  <tbody>\n",
       "    <tr>\n",
       "      <th>0</th>\n",
       "      <td>UNKNOWN</td>\n",
       "      <td>-189.898667</td>\n",
       "      <td>970.763668</td>\n",
       "      <td>66.012222</td>\n",
       "      <td>9</td>\n",
       "      <td>Declaration REJECTED by MISSING</td>\n",
       "      <td>2017-11-02 09:36:24</td>\n",
       "      <td>2017-11</td>\n",
       "    </tr>\n",
       "    <tr>\n",
       "      <th>1</th>\n",
       "      <td>UNKNOWN</td>\n",
       "      <td>0.000000</td>\n",
       "      <td>0.000000</td>\n",
       "      <td>360.308889</td>\n",
       "      <td>80</td>\n",
       "      <td>Declaration SAVED by EMPLOYEE</td>\n",
       "      <td>2018-12-20 13:38:18</td>\n",
       "      <td>2018-12</td>\n",
       "    </tr>\n",
       "    <tr>\n",
       "      <th>2</th>\n",
       "      <td>UNKNOWN</td>\n",
       "      <td>28.453204</td>\n",
       "      <td>435.475839</td>\n",
       "      <td>36.930556</td>\n",
       "      <td>8</td>\n",
       "      <td>Declaration REJECTED by MISSING</td>\n",
       "      <td>2017-10-13 12:56:57</td>\n",
       "      <td>2017-10</td>\n",
       "    </tr>\n",
       "    <tr>\n",
       "      <th>3</th>\n",
       "      <td>UNKNOWN</td>\n",
       "      <td>34.455037</td>\n",
       "      <td>0.000000</td>\n",
       "      <td>40.207778</td>\n",
       "      <td>7</td>\n",
       "      <td>Declaration SAVED by EMPLOYEE</td>\n",
       "      <td>2018-03-20 12:11:17</td>\n",
       "      <td>2018-03</td>\n",
       "    </tr>\n",
       "    <tr>\n",
       "      <th>4</th>\n",
       "      <td>UNKNOWN</td>\n",
       "      <td>34.787702</td>\n",
       "      <td>294.646603</td>\n",
       "      <td>93.652500</td>\n",
       "      <td>9</td>\n",
       "      <td>Declaration REJECTED by MISSING</td>\n",
       "      <td>2017-10-12 14:18:11</td>\n",
       "      <td>2017-10</td>\n",
       "    </tr>\n",
       "    <tr>\n",
       "      <th>...</th>\n",
       "      <td>...</td>\n",
       "      <td>...</td>\n",
       "      <td>...</td>\n",
       "      <td>...</td>\n",
       "      <td>...</td>\n",
       "      <td>...</td>\n",
       "      <td>...</td>\n",
       "      <td>...</td>\n",
       "    </tr>\n",
       "    <tr>\n",
       "      <th>6383</th>\n",
       "      <td>declaration number 9935</td>\n",
       "      <td>274.085803</td>\n",
       "      <td>588.130139</td>\n",
       "      <td>77.945278</td>\n",
       "      <td>10</td>\n",
       "      <td>Payment Handled</td>\n",
       "      <td>2018-04-12 17:31:11</td>\n",
       "      <td>2018-04</td>\n",
       "    </tr>\n",
       "    <tr>\n",
       "      <th>6384</th>\n",
       "      <td>declaration number 9946</td>\n",
       "      <td>-541.572797</td>\n",
       "      <td>966.108393</td>\n",
       "      <td>51.275833</td>\n",
       "      <td>10</td>\n",
       "      <td>Payment Handled</td>\n",
       "      <td>2018-04-09 17:30:58</td>\n",
       "      <td>2018-04</td>\n",
       "    </tr>\n",
       "    <tr>\n",
       "      <th>6385</th>\n",
       "      <td>declaration number 9956</td>\n",
       "      <td>-873.065881</td>\n",
       "      <td>1539.687646</td>\n",
       "      <td>79.767500</td>\n",
       "      <td>12</td>\n",
       "      <td>Payment Handled</td>\n",
       "      <td>2018-05-24 17:31:07</td>\n",
       "      <td>2018-05</td>\n",
       "    </tr>\n",
       "    <tr>\n",
       "      <th>6386</th>\n",
       "      <td>declaration number 9969</td>\n",
       "      <td>-89.468728</td>\n",
       "      <td>337.873587</td>\n",
       "      <td>113.516667</td>\n",
       "      <td>18</td>\n",
       "      <td>Payment Handled</td>\n",
       "      <td>2018-03-08 17:31:00</td>\n",
       "      <td>2018-03</td>\n",
       "    </tr>\n",
       "    <tr>\n",
       "      <th>6387</th>\n",
       "      <td>declaration number 9996</td>\n",
       "      <td>2718.080692</td>\n",
       "      <td>44.645303</td>\n",
       "      <td>100.614722</td>\n",
       "      <td>18</td>\n",
       "      <td>Payment Handled</td>\n",
       "      <td>2018-10-04 17:31:16</td>\n",
       "      <td>2018-10</td>\n",
       "    </tr>\n",
       "  </tbody>\n",
       "</table>\n",
       "<p>6388 rows × 8 columns</p>\n",
       "</div>"
      ],
      "text/plain": [
       "       case:DeclarationNumber         diff  case:OriginalAmount  \\\n",
       "0                     UNKNOWN  -189.898667           970.763668   \n",
       "1                     UNKNOWN     0.000000             0.000000   \n",
       "2                     UNKNOWN    28.453204           435.475839   \n",
       "3                     UNKNOWN    34.455037             0.000000   \n",
       "4                     UNKNOWN    34.787702           294.646603   \n",
       "...                       ...          ...                  ...   \n",
       "6383  declaration number 9935   274.085803           588.130139   \n",
       "6384  declaration number 9946  -541.572797           966.108393   \n",
       "6385  declaration number 9956  -873.065881          1539.687646   \n",
       "6386  declaration number 9969   -89.468728           337.873587   \n",
       "6387  declaration number 9996  2718.080692            44.645303   \n",
       "\n",
       "      Длительность_шага  Шаг                     concept:name  \\\n",
       "0             66.012222    9  Declaration REJECTED by MISSING   \n",
       "1            360.308889   80    Declaration SAVED by EMPLOYEE   \n",
       "2             36.930556    8  Declaration REJECTED by MISSING   \n",
       "3             40.207778    7    Declaration SAVED by EMPLOYEE   \n",
       "4             93.652500    9  Declaration REJECTED by MISSING   \n",
       "...                 ...  ...                              ...   \n",
       "6383          77.945278   10                  Payment Handled   \n",
       "6384          51.275833   10                  Payment Handled   \n",
       "6385          79.767500   12                  Payment Handled   \n",
       "6386         113.516667   18                  Payment Handled   \n",
       "6387         100.614722   18                  Payment Handled   \n",
       "\n",
       "          time:timestamp    Месяц  \n",
       "0    2017-11-02 09:36:24  2017-11  \n",
       "1    2018-12-20 13:38:18  2018-12  \n",
       "2    2017-10-13 12:56:57  2017-10  \n",
       "3    2018-03-20 12:11:17  2018-03  \n",
       "4    2017-10-12 14:18:11  2017-10  \n",
       "...                  ...      ...  \n",
       "6383 2018-04-12 17:31:11  2018-04  \n",
       "6384 2018-04-09 17:30:58  2018-04  \n",
       "6385 2018-05-24 17:31:07  2018-05  \n",
       "6386 2018-03-08 17:31:00  2018-03  \n",
       "6387 2018-10-04 17:31:16  2018-10  \n",
       "\n",
       "[6388 rows x 8 columns]"
      ]
     },
     "execution_count": 199,
     "metadata": {},
     "output_type": "execute_result"
    }
   ],
   "source": [
    "info1"
   ]
  },
  {
   "cell_type": "code",
   "execution_count": 198,
   "metadata": {},
   "outputs": [],
   "source": [
    "info1['Месяц']=info1['time:timestamp'].astype(str).str[0:7]"
   ]
  },
  {
   "cell_type": "code",
   "execution_count": 202,
   "metadata": {},
   "outputs": [],
   "source": [
    "info5=info1.groupby(['Месяц'])\\\n",
    ".agg({'case:DeclarationNumber' : 'count', 'case:OriginalAmount' : quant, 'Длительность_шага' : quant}).reset_index()\n",
    "info5.to_excel('PM1.xlsx', index=False)"
   ]
  },
  {
   "cell_type": "code",
   "execution_count": 201,
   "metadata": {},
   "outputs": [],
   "source": [
    "info4=info1.groupby(['concept:name', 'Шаг'])\\\n",
    ".agg({'diff' : quant, 'case:OriginalAmount' : quant}).reset_index()\n",
    "info4.to_excel('PM1.xlsx', index=False)"
   ]
  },
  {
   "cell_type": "code",
   "execution_count": 200,
   "metadata": {},
   "outputs": [
    {
     "name": "stderr",
     "output_type": "stream",
     "text": [
      "/Users/a18860104/opt/anaconda3/lib/python3.8/site-packages/numpy/core/fromnumeric.py:3372: RuntimeWarning: Mean of empty slice.\n",
      "  return _methods._mean(a, axis=axis, dtype=dtype,\n",
      "/Users/a18860104/opt/anaconda3/lib/python3.8/site-packages/numpy/core/_methods.py:170: RuntimeWarning: invalid value encountered in double_scalars\n",
      "  ret = ret.dtype.type(ret / rcount)\n"
     ]
    }
   ],
   "source": [
    "info3=info1.groupby(['concept:name', 'Месяц'])\\\n",
    ".agg({'Длительность_шага' : quant, 'Шаг' : quant, 'diff' : quant, 'case:OriginalAmount' : quant}).reset_index()\n",
    "info3.to_excel('PM1.xlsx', index=False)"
   ]
  },
  {
   "cell_type": "code",
   "execution_count": 196,
   "metadata": {},
   "outputs": [],
   "source": [
    "info2=info1.groupby(['concept:name'])\\\n",
    ".agg({'Длительность_шага' : quant, 'Шаг' : quant, 'diff' : quant, 'case:OriginalAmount' : quant}).reset_index()\n",
    "info2.to_excel('PM.xlsx', index=False)"
   ]
  },
  {
   "cell_type": "code",
   "execution_count": 193,
   "metadata": {},
   "outputs": [
    {
     "data": {
      "text/plain": [
       "<AxesSubplot:>"
      ]
     },
     "execution_count": 193,
     "metadata": {},
     "output_type": "execute_result"
    },
    {
     "data": {
      "image/png": "[encoded data removed]",
      "text/plain": [
       "<Figure size 432x288 with 1 Axes>"
      ]
     },
     "metadata": {
      "needs_background": "light"
     },
     "output_type": "display_data"
    }
   ],
   "source": [
    "info1['diff'].hist(bins=50, range=(-4000, 4000))"
   ]
  },
  {
   "cell_type": "code",
   "execution_count": 207,
   "metadata": {},
   "outputs": [],
   "source": [
    "info1[['concept:name', 'case:DeclarationNumber']].drop_duplicates()['concept:name'].value_counts(normalize=True).reset_index().to_excel('PM1.xlsx')"
   ]
  },
  {
   "cell_type": "code",
   "execution_count": 208,
   "metadata": {},
   "outputs": [
    {
     "data": {
      "text/html": [
       "<div>\n",
       "<style scoped>\n",
       "    .dataframe tbody tr th:only-of-type {\n",
       "        vertical-align: middle;\n",
       "    }\n",
       "\n",
       "    .dataframe tbody tr th {\n",
       "        vertical-align: top;\n",
       "    }\n",
       "\n",
       "    .dataframe thead th {\n",
       "        text-align: right;\n",
       "    }\n",
       "</style>\n",
       "<table border=\"1\" class=\"dataframe\">\n",
       "  <thead>\n",
       "    <tr style=\"text-align: right;\">\n",
       "      <th></th>\n",
       "      <th>Шаг</th>\n",
       "      <th>Длительность_шага</th>\n",
       "    </tr>\n",
       "  </thead>\n",
       "  <tbody>\n",
       "    <tr>\n",
       "      <th>9</th>\n",
       "      <td>Start trip--&gt;End trip</td>\n",
       "      <td>0.000000</td>\n",
       "    </tr>\n",
       "    <tr>\n",
       "      <th>7</th>\n",
       "      <td>Permit SUBMITTED by EMPLOYEE--&gt;Permit APPROVED...</td>\n",
       "      <td>0.004596</td>\n",
       "    </tr>\n",
       "    <tr>\n",
       "      <th>2</th>\n",
       "      <td>Declaration SUBMITTED by EMPLOYEE--&gt;Declaratio...</td>\n",
       "      <td>0.971098</td>\n",
       "    </tr>\n",
       "    <tr>\n",
       "      <th>8</th>\n",
       "      <td>Request Payment--&gt;Payment Handled</td>\n",
       "      <td>6.167457</td>\n",
       "    </tr>\n",
       "    <tr>\n",
       "      <th>1</th>\n",
       "      <td>Declaration FINAL_APPROVED by SUPERVISOR--&gt;Req...</td>\n",
       "      <td>10.010380</td>\n",
       "    </tr>\n",
       "    <tr>\n",
       "      <th>0</th>\n",
       "      <td>Declaration APPROVED by ADMINISTRATION--&gt;Decla...</td>\n",
       "      <td>11.590939</td>\n",
       "    </tr>\n",
       "    <tr>\n",
       "      <th>5</th>\n",
       "      <td>Permit APPROVED by ADMINISTRATION--&gt;Permit FIN...</td>\n",
       "      <td>11.649527</td>\n",
       "    </tr>\n",
       "    <tr>\n",
       "      <th>6</th>\n",
       "      <td>Permit FINAL_APPROVED by SUPERVISOR--&gt;Start trip</td>\n",
       "      <td>12.413022</td>\n",
       "    </tr>\n",
       "    <tr>\n",
       "      <th>3</th>\n",
       "      <td>End trip--&gt;Declaration SUBMITTED by EMPLOYEE</td>\n",
       "      <td>13.600276</td>\n",
       "    </tr>\n",
       "    <tr>\n",
       "      <th>4</th>\n",
       "      <td>Payment Handled--&gt;nan</td>\n",
       "      <td>NaN</td>\n",
       "    </tr>\n",
       "  </tbody>\n",
       "</table>\n",
       "</div>"
      ],
      "text/plain": [
       "                                                 Шаг  Длительность_шага\n",
       "9                              Start trip-->End trip           0.000000\n",
       "7  Permit SUBMITTED by EMPLOYEE-->Permit APPROVED...           0.004596\n",
       "2  Declaration SUBMITTED by EMPLOYEE-->Declaratio...           0.971098\n",
       "8                  Request Payment-->Payment Handled           6.167457\n",
       "1  Declaration FINAL_APPROVED by SUPERVISOR-->Req...          10.010380\n",
       "0  Declaration APPROVED by ADMINISTRATION-->Decla...          11.590939\n",
       "5  Permit APPROVED by ADMINISTRATION-->Permit FIN...          11.649527\n",
       "6   Permit FINAL_APPROVED by SUPERVISOR-->Start trip          12.413022\n",
       "3       End trip-->Declaration SUBMITTED by EMPLOYEE          13.600276\n",
       "4                              Payment Handled-->nan                NaN"
      ]
     },
     "execution_count": 208,
     "metadata": {},
     "output_type": "execute_result"
    }
   ],
   "source": [
    "info=data[data['Шаг'].isin(sp)].groupby(['Шаг'])\\\n",
    ".agg({'Длительность_шага' : quant}).reset_index()\n",
    "info.sort_values('Длительность_шага')[:20]"
   ]
  },
  {
   "cell_type": "code",
   "execution_count": 213,
   "metadata": {},
   "outputs": [
    {
     "name": "stderr",
     "output_type": "stream",
     "text": [
      "/Users/a18860104/opt/anaconda3/lib/python3.8/site-packages/numpy/core/fromnumeric.py:3372: RuntimeWarning: Mean of empty slice.\n",
      "  return _methods._mean(a, axis=axis, dtype=dtype,\n",
      "/Users/a18860104/opt/anaconda3/lib/python3.8/site-packages/numpy/core/_methods.py:170: RuntimeWarning: invalid value encountered in double_scalars\n",
      "  ret = ret.dtype.type(ret / rcount)\n"
     ]
    }
   ],
   "source": [
    "info=data.groupby(['Шаг'])\\\n",
    ".agg({'Длительность_шага' : quant, 'time:timestamp' : 'count', 'case:DeclarationNumber' : 'nunique'}).reset_index()\n",
    "info['Длительность_шага']=info['Длительность_шага'].fillna(0.0)\n",
    "info.sort_values('Длительность_шага')\n",
    "info[info['Длительность_шага']!=0].to_excel('pp.xlsx')"
   ]
  },
  {
   "cell_type": "code",
   "execution_count": 216,
   "metadata": {},
   "outputs": [
    {
     "data": {
      "text/html": [
       "<div>\n",
       "<style scoped>\n",
       "    .dataframe tbody tr th:only-of-type {\n",
       "        vertical-align: middle;\n",
       "    }\n",
       "\n",
       "    .dataframe tbody tr th {\n",
       "        vertical-align: top;\n",
       "    }\n",
       "\n",
       "    .dataframe thead th {\n",
       "        text-align: right;\n",
       "    }\n",
       "</style>\n",
       "<table border=\"1\" class=\"dataframe\">\n",
       "  <thead>\n",
       "    <tr style=\"text-align: right;\">\n",
       "      <th></th>\n",
       "      <th>Шаг</th>\n",
       "      <th>Длительность_шага</th>\n",
       "      <th>time:timestamp</th>\n",
       "      <th>case:DeclarationNumber</th>\n",
       "      <th>Зацикленность</th>\n",
       "    </tr>\n",
       "  </thead>\n",
       "  <tbody>\n",
       "    <tr>\n",
       "      <th>0</th>\n",
       "      <td>Declaration APPROVED by ADMINISTRATION--&gt;Decla...</td>\n",
       "      <td>10.733765</td>\n",
       "      <td>1811</td>\n",
       "      <td>1793</td>\n",
       "      <td>1.010039</td>\n",
       "    </tr>\n",
       "    <tr>\n",
       "      <th>1</th>\n",
       "      <td>Declaration APPROVED by ADMINISTRATION--&gt;Decla...</td>\n",
       "      <td>10.753446</td>\n",
       "      <td>103</td>\n",
       "      <td>103</td>\n",
       "      <td>1.000000</td>\n",
       "    </tr>\n",
       "    <tr>\n",
       "      <th>2</th>\n",
       "      <td>Declaration APPROVED by ADMINISTRATION--&gt;Decla...</td>\n",
       "      <td>11.590939</td>\n",
       "      <td>2959</td>\n",
       "      <td>2959</td>\n",
       "      <td>1.000000</td>\n",
       "    </tr>\n",
       "    <tr>\n",
       "      <th>4</th>\n",
       "      <td>Declaration APPROVED by ADMINISTRATION--&gt;Decla...</td>\n",
       "      <td>9.861604</td>\n",
       "      <td>35</td>\n",
       "      <td>35</td>\n",
       "      <td>1.000000</td>\n",
       "    </tr>\n",
       "    <tr>\n",
       "      <th>5</th>\n",
       "      <td>Declaration APPROVED by ADMINISTRATION--&gt;Decla...</td>\n",
       "      <td>0.503056</td>\n",
       "      <td>3</td>\n",
       "      <td>1</td>\n",
       "      <td>3.000000</td>\n",
       "    </tr>\n",
       "  </tbody>\n",
       "</table>\n",
       "</div>"
      ],
      "text/plain": [
       "                                                 Шаг  Длительность_шага  \\\n",
       "0  Declaration APPROVED by ADMINISTRATION-->Decla...          10.733765   \n",
       "1  Declaration APPROVED by ADMINISTRATION-->Decla...          10.753446   \n",
       "2  Declaration APPROVED by ADMINISTRATION-->Decla...          11.590939   \n",
       "4  Declaration APPROVED by ADMINISTRATION-->Decla...           9.861604   \n",
       "5  Declaration APPROVED by ADMINISTRATION-->Decla...           0.503056   \n",
       "\n",
       "   time:timestamp  case:DeclarationNumber  Зацикленность  \n",
       "0            1811                    1793       1.010039  \n",
       "1             103                     103       1.000000  \n",
       "2            2959                    2959       1.000000  \n",
       "4              35                      35       1.000000  \n",
       "5               3                       1       3.000000  "
      ]
     },
     "execution_count": 216,
     "metadata": {},
     "output_type": "execute_result"
    }
   ],
   "source": [
    "info[info['Длительность_шага']!=0].head()"
   ]
  },
  {
   "cell_type": "code",
   "execution_count": 215,
   "metadata": {},
   "outputs": [],
   "source": [
    "info['Зацикленность']=info['time:timestamp']/info['case:DeclarationNumber']"
   ]
  },
  {
   "cell_type": "code",
   "execution_count": 221,
   "metadata": {},
   "outputs": [],
   "source": [
    "info[(info['Зацикленность']>1.5)&(info['case:DeclarationNumber']>5)].to_excel('pp.xlsx', index=False)"
   ]
  },
  {
   "cell_type": "code",
   "execution_count": null,
   "metadata": {},
   "outputs": [],
   "source": []
  }
 ],
 "metadata": {
  "kernelspec": {
   "display_name": "Python 3",
   "language": "python",
   "name": "python3"
  },
  "language_info": {
   "codemirror_mode": {
    "name": "ipython",
    "version": 3
   },
   "file_extension": ".py",
   "mimetype": "text/x-python",
   "name": "python",
   "nbconvert_exporter": "python",
   "pygments_lexer": "ipython3",
   "version": "3.8.5"
  }
 },
 "nbformat": 4,
 "nbformat_minor": 4
}
